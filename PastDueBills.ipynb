{
 "cells": [
  {
   "cell_type": "markdown",
   "metadata": {
    "slideshow": {
     "slide_type": "slide"
    }
   },
   "source": []
  },
  {
   "cell_type": "markdown",
   "metadata": {
    "slideshow": {
     "slide_type": "slide"
    }
   },
   "source": [
    "# Debugging for Python"
   ]
  },
  {
   "cell_type": "markdown",
   "metadata": {
    "slideshow": {
     "slide_type": "subslide"
    }
   },
   "source": [
    "### Grace Hopper and The Actual Bug\n",
    "\n",
    "![Actual Bug](BugExample.jpg)"
   ]
  },
  {
   "cell_type": "markdown",
   "metadata": {
    "slideshow": {
     "slide_type": "slide"
    }
   },
   "source": [
    "<table border=\"0\">\n",
    " <tr>\n",
    "    <td><b style=\"font-size:48px; text-align: left\">History of Bugs</b></td>\n",
    "    <td><b style=\"font-size:30px\"></b></td>\n",
    " </tr>\n",
    " <tr>\n",
    "    <td style='width: 60%'><p style=\"font-size:34px\">It has been just so in all of my inventions. The first step is an intuition, and comes with a burst, then difficulties arise—this thing gives out and [it is] then that \"Bugs\"—as such little faults and difficulties are called—show themselves and months of intense watching, study and labor are requisite before commercial success or failure is certainly reached. </p>\n",
    "        <p><b style='font-size:30px'>Thomas Edison, 1878 letter to an associate</b></p></td>\n",
    "    <td><img src=\"https://media.giphy.com/media/UAUtB4Oi9U4EM/giphy.gif\" width=\"640\" height=\"480\" frameBorder=\"0\" />\n",
    "        <p></p>.</td>\n",
    " </tr>\n",
    "</table>"
   ]
  },
  {
   "cell_type": "markdown",
   "metadata": {
    "slideshow": {
     "slide_type": "slide"
    }
   },
   "source": [
    "## Debugging Algorithm"
   ]
  },
  {
   "cell_type": "markdown",
   "metadata": {
    "slideshow": {
     "slide_type": "fragment"
    }
   },
   "source": [
    "* Gather information"
   ]
  },
  {
   "cell_type": "markdown",
   "metadata": {
    "slideshow": {
     "slide_type": "fragment"
    }
   },
   "source": [
    "* Form a hypothesis"
   ]
  },
  {
   "cell_type": "markdown",
   "metadata": {
    "slideshow": {
     "slide_type": "fragment"
    }
   },
   "source": [
    "* Test the hypothesis"
   ]
  },
  {
   "cell_type": "markdown",
   "metadata": {
    "slideshow": {
     "slide_type": "fragment"
    }
   },
   "source": [
    "* Repeat until a hypothesis is proven"
   ]
  },
  {
   "cell_type": "markdown",
   "metadata": {
    "slideshow": {
     "slide_type": "fragment"
    }
   },
   "source": [
    "* Propose a solution"
   ]
  },
  {
   "cell_type": "markdown",
   "metadata": {
    "slideshow": {
     "slide_type": "slide"
    }
   },
   "source": [
    "## PDB (Python Debugger)"
   ]
  },
  {
   "cell_type": "markdown",
   "metadata": {
    "slideshow": {
     "slide_type": "fragment"
    }
   },
   "source": [
    "### Breakpoints\n",
    "Automatically imports pdb and creates a checkpoint within your code"
   ]
  },
  {
   "cell_type": "markdown",
   "metadata": {
    "slideshow": {
     "slide_type": "subslide"
    }
   },
   "source": [
    "### Keywords\n",
    "#### n(ext)\n",
    " * Run to the next line of code"
   ]
  },
  {
   "cell_type": "markdown",
   "metadata": {
    "slideshow": {
     "slide_type": "fragment"
    }
   },
   "source": [
    "breakpoint()\n",
    "\n",
    "df = pandas.read_csv('example.csv')\n",
    "\n",
    "df.describe()"
   ]
  },
  {
   "cell_type": "markdown",
   "metadata": {
    "slideshow": {
     "slide_type": "subslide"
    }
   },
   "source": [
    "#### s(tep)\n",
    " * Step into the next moment"
   ]
  },
  {
   "cell_type": "markdown",
   "metadata": {
    "slideshow": {
     "slide_type": "subslide"
    }
   },
   "source": [
    "breakpoint()\n",
    "\n",
    "df = pandas.read_csv('example.csv')\n",
    "\n",
    "df.describe()"
   ]
  },
  {
   "cell_type": "markdown",
   "metadata": {
    "slideshow": {
     "slide_type": "subslide"
    }
   },
   "source": [
    "#### c(ontinue)\n",
    "* Run until the next breakpoint is hit"
   ]
  },
  {
   "cell_type": "markdown",
   "metadata": {},
   "source": [
    "breakpoint()\n",
    "\n",
    "df = pandas.read_csv('example.csv')\n",
    "\n",
    "df.describe()"
   ]
  },
  {
   "cell_type": "markdown",
   "metadata": {
    "slideshow": {
     "slide_type": "subslide"
    }
   },
   "source": [
    "#### l(ist)\n",
    "* Print out the context of the code line you are in\n",
    "\n",
    "#### pp (pretty print)\n",
    "* Print out a variable in a readable format\n",
    "\n",
    "#### w(here)\n",
    "* Print out the stack trace"
   ]
  },
  {
   "cell_type": "markdown",
   "metadata": {
    "slideshow": {
     "slide_type": "slide"
    }
   },
   "source": [
    "# For Loop Example"
   ]
  },
  {
   "cell_type": "code",
   "execution_count": 1,
   "metadata": {
    "scrolled": true,
    "slideshow": {
     "slide_type": "subslide"
    }
   },
   "outputs": [
    {
     "name": "stdout",
     "output_type": "stream",
     "text": [
      "--Return--\n",
      "> <ipython-input-1-9e5204081c66>(4)<module>()->None\n",
      "-> breakpoint()\n",
      "(Pdb) cont\n",
      "> <ipython-input-1-9e5204081c66>(7)<module>()->None\n",
      "-> bill = Ledger.add_interest(bill)\n",
      "(Pdb) s\n",
      "--Call--\n",
      "> /Users/dizquierdo/PycharmProjects/PdbLecture/Ledger.py(21)add_interest()\n",
      "-> def add_interest(bill, interest=.08):\n",
      "(Pdb) l\n",
      " 16  \t            return [str(self.rng.choice(self.co, 1)[0]), int(self.rng.randint(10, 1000, 1))]\n",
      " 17  \t\n",
      " 18  \tbills = Ledger()\n",
      " 19  \t\n",
      " 20  \t\n",
      " 21  ->\tdef add_interest(bill, interest=.08):\n",
      " 22  \t    return bill*(1+interest)\n",
      " 23  \t\n",
      " 24  \t\n",
      " 25  \tdef get_bill():\n",
      " 26  \t    bill = bills.generate()\n",
      "(Pdb) w\n",
      "  //anaconda3/lib/python3.7/runpy.py(193)_run_module_as_main()\n",
      "-> \"__main__\", mod_spec)\n",
      "  //anaconda3/lib/python3.7/runpy.py(85)_run_code()\n",
      "-> exec(code, run_globals)\n",
      "  //anaconda3/lib/python3.7/site-packages/ipykernel_launcher.py(16)<module>()\n",
      "-> app.launch_new_instance()\n",
      "  //anaconda3/lib/python3.7/site-packages/traitlets/config/application.py(658)launch_instance()\n",
      "-> app.start()\n",
      "  //anaconda3/lib/python3.7/site-packages/ipykernel/kernelapp.py(505)start()\n",
      "-> self.io_loop.start()\n",
      "  //anaconda3/lib/python3.7/site-packages/tornado/platform/asyncio.py(148)start()\n",
      "-> self.asyncio_loop.run_forever()\n",
      "  //anaconda3/lib/python3.7/asyncio/base_events.py(539)run_forever()\n",
      "-> self._run_once()\n",
      "  //anaconda3/lib/python3.7/asyncio/base_events.py(1775)_run_once()\n",
      "-> handle._run()\n",
      "  //anaconda3/lib/python3.7/asyncio/events.py(88)_run()\n",
      "-> self._context.run(self._callback, *self._args)\n",
      "  //anaconda3/lib/python3.7/site-packages/tornado/ioloop.py(690)<lambda>()\n",
      "-> lambda f: self._run_callback(functools.partial(callback, future))\n",
      "  //anaconda3/lib/python3.7/site-packages/tornado/ioloop.py(743)_run_callback()\n",
      "-> ret = callback()\n",
      "  //anaconda3/lib/python3.7/site-packages/tornado/gen.py(787)inner()\n",
      "-> self.run()\n",
      "  //anaconda3/lib/python3.7/site-packages/tornado/gen.py(748)run()\n",
      "-> yielded = self.gen.send(value)\n",
      "  //anaconda3/lib/python3.7/site-packages/ipykernel/kernelbase.py(365)process_one()\n",
      "-> yield gen.maybe_future(dispatch(*args))\n",
      "  //anaconda3/lib/python3.7/site-packages/tornado/gen.py(209)wrapper()\n",
      "-> yielded = next(result)\n",
      "  //anaconda3/lib/python3.7/site-packages/ipykernel/kernelbase.py(272)dispatch_shell()\n",
      "-> yield gen.maybe_future(handler(stream, idents, msg))\n",
      "  //anaconda3/lib/python3.7/site-packages/tornado/gen.py(209)wrapper()\n",
      "-> yielded = next(result)\n",
      "  //anaconda3/lib/python3.7/site-packages/ipykernel/kernelbase.py(542)execute_request()\n",
      "-> user_expressions, allow_stdin,\n",
      "  //anaconda3/lib/python3.7/site-packages/tornado/gen.py(209)wrapper()\n",
      "-> yielded = next(result)\n",
      "  //anaconda3/lib/python3.7/site-packages/ipykernel/ipkernel.py(294)do_execute()\n",
      "-> res = shell.run_cell(code, store_history=store_history, silent=silent)\n",
      "  //anaconda3/lib/python3.7/site-packages/ipykernel/zmqshell.py(536)run_cell()\n",
      "-> return super(ZMQInteractiveShell, self).run_cell(*args, **kwargs)\n",
      "  //anaconda3/lib/python3.7/site-packages/IPython/core/interactiveshell.py(2854)run_cell()\n",
      "-> raw_cell, store_history, silent, shell_futures)\n",
      "  //anaconda3/lib/python3.7/site-packages/IPython/core/interactiveshell.py(2880)_run_cell()\n",
      "-> return runner(coro)\n",
      "  //anaconda3/lib/python3.7/site-packages/IPython/core/async_helpers.py(68)_pseudo_sync_runner()\n",
      "-> coro.send(None)\n",
      "  //anaconda3/lib/python3.7/site-packages/IPython/core/interactiveshell.py(3057)run_cell_async()\n",
      "-> interactivity=interactivity, compiler=compiler, result=result)\n",
      "  //anaconda3/lib/python3.7/site-packages/IPython/core/interactiveshell.py(3248)run_ast_nodes()\n",
      "-> if (await self.run_code(code, result,  async_=asy)):\n",
      "  //anaconda3/lib/python3.7/site-packages/IPython/core/interactiveshell.py(3325)run_code()\n",
      "-> exec(code_obj, self.user_global_ns, self.user_ns)\n",
      "  <ipython-input-1-9e5204081c66>(7)<module>()->None\n",
      "-> bill = Ledger.add_interest(bill)\n",
      "> /Users/dizquierdo/PycharmProjects/PdbLecture/Ledger.py(21)add_interest()\n",
      "-> def add_interest(bill, interest=.08):\n",
      "(Pdb) cont\n",
      "> <ipython-input-1-9e5204081c66>(6)<module>()->None\n",
      "-> breakpoint()\n",
      "(Pdb) l\n",
      "  1  \tfrom IPython.display import clear_output as bye\n",
      "  2  \timport Ledger\n",
      "  3  \tbill = 100.0\n",
      "  4  \tbreakpoint()\n",
      "  5  \tfor year in range(1,10):\n",
      "  6  ->\t    breakpoint()\n",
      "  7  \t    bill = Ledger.add_interest(bill)\n",
      "[EOF]\n",
      "(Pdb) bill\n",
      "108.0\n",
      "(Pdb) cont\n",
      "> <ipython-input-1-9e5204081c66>(7)<module>()->None\n",
      "-> bill = Ledger.add_interest(bill)\n",
      "(Pdb) bill\n",
      "116.64000000000001\n",
      "(Pdb) display bill\n",
      "display bill: 116.64000000000001\n",
      "(Pdb) cont\n",
      "> <ipython-input-1-9e5204081c66>(6)<module>()->None\n",
      "-> breakpoint()\n",
      "(Pdb) cont\n",
      "> <ipython-input-1-9e5204081c66>(7)<module>()->None\n",
      "-> bill = Ledger.add_interest(bill)\n",
      "(Pdb) display bill\n",
      "display bill: 136.04889600000004\n",
      "(Pdb) n\n",
      "> <ipython-input-1-9e5204081c66>(5)<module>()->None\n",
      "-> for year in range(1,10):\n",
      "display bill: 146.93280768000005  [old: 136.04889600000004]\n",
      "(Pdb) n\n",
      "> <ipython-input-1-9e5204081c66>(6)<module>()->None\n",
      "-> breakpoint()\n",
      "(Pdb) n\n",
      "> <ipython-input-1-9e5204081c66>(7)<module>()->None\n",
      "-> bill = Ledger.add_interest(bill)\n",
      "(Pdb) n\n",
      "> <ipython-input-1-9e5204081c66>(5)<module>()->None\n",
      "-> for year in range(1,10):\n",
      "(Pdb) n\n",
      "> <ipython-input-1-9e5204081c66>(6)<module>()->None\n",
      "-> breakpoint()\n",
      "(Pdb) n\n",
      "> <ipython-input-1-9e5204081c66>(7)<module>()->None\n",
      "-> bill = Ledger.add_interest(bill)\n",
      "(Pdb) h\n",
      "\n",
      "Documented commands (type help <topic>):\n",
      "========================================\n",
      "EOF    c          d        h         list      q        rv       undisplay\n",
      "a      cl         debug    help      ll        quit     s        unt      \n",
      "alias  clear      disable  ignore    longlist  r        source   until    \n",
      "args   commands   display  interact  n         restart  step     up       \n",
      "b      condition  down     j         next      return   tbreak   w        \n",
      "break  cont       enable   jump      p         retval   u        whatis   \n",
      "bt     continue   exit     l         pp        run      unalias  where    \n",
      "\n",
      "Miscellaneous help topics:\n",
      "==========================\n",
      "exec  pdb\n",
      "\n",
      "(Pdb) h p\n",
      "p expression\n",
      "        Print the value of the expression.\n",
      "(Pdb) h whatis\n",
      "whatis arg\n",
      "        Print the type of the argument.\n",
      "(Pdb) exit\n"
     ]
    },
    {
     "ename": "BdbQuit",
     "evalue": "",
     "output_type": "error",
     "traceback": [
      "\u001b[0;31m---------------------------------------------------------------------------\u001b[0m",
      "\u001b[0;31mBdbQuit\u001b[0m                                   Traceback (most recent call last)",
      "\u001b[0;32m<ipython-input-1-9e5204081c66>\u001b[0m in \u001b[0;36m<module>\u001b[0;34m\u001b[0m\n\u001b[1;32m      5\u001b[0m \u001b[0;32mfor\u001b[0m \u001b[0myear\u001b[0m \u001b[0;32min\u001b[0m \u001b[0mrange\u001b[0m\u001b[0;34m(\u001b[0m\u001b[0;36m1\u001b[0m\u001b[0;34m,\u001b[0m\u001b[0;36m10\u001b[0m\u001b[0;34m)\u001b[0m\u001b[0;34m:\u001b[0m\u001b[0;34m\u001b[0m\u001b[0;34m\u001b[0m\u001b[0m\n\u001b[1;32m      6\u001b[0m     \u001b[0mbreakpoint\u001b[0m\u001b[0;34m(\u001b[0m\u001b[0;34m)\u001b[0m\u001b[0;34m\u001b[0m\u001b[0;34m\u001b[0m\u001b[0m\n\u001b[0;32m----> 7\u001b[0;31m     \u001b[0mbill\u001b[0m \u001b[0;34m=\u001b[0m \u001b[0mLedger\u001b[0m\u001b[0;34m.\u001b[0m\u001b[0madd_interest\u001b[0m\u001b[0;34m(\u001b[0m\u001b[0mbill\u001b[0m\u001b[0;34m)\u001b[0m\u001b[0;34m\u001b[0m\u001b[0;34m\u001b[0m\u001b[0m\n\u001b[0m",
      "\u001b[0;32m<ipython-input-1-9e5204081c66>\u001b[0m in \u001b[0;36m<module>\u001b[0;34m\u001b[0m\n\u001b[1;32m      5\u001b[0m \u001b[0;32mfor\u001b[0m \u001b[0myear\u001b[0m \u001b[0;32min\u001b[0m \u001b[0mrange\u001b[0m\u001b[0;34m(\u001b[0m\u001b[0;36m1\u001b[0m\u001b[0;34m,\u001b[0m\u001b[0;36m10\u001b[0m\u001b[0;34m)\u001b[0m\u001b[0;34m:\u001b[0m\u001b[0;34m\u001b[0m\u001b[0;34m\u001b[0m\u001b[0m\n\u001b[1;32m      6\u001b[0m     \u001b[0mbreakpoint\u001b[0m\u001b[0;34m(\u001b[0m\u001b[0;34m)\u001b[0m\u001b[0;34m\u001b[0m\u001b[0;34m\u001b[0m\u001b[0m\n\u001b[0;32m----> 7\u001b[0;31m     \u001b[0mbill\u001b[0m \u001b[0;34m=\u001b[0m \u001b[0mLedger\u001b[0m\u001b[0;34m.\u001b[0m\u001b[0madd_interest\u001b[0m\u001b[0;34m(\u001b[0m\u001b[0mbill\u001b[0m\u001b[0;34m)\u001b[0m\u001b[0;34m\u001b[0m\u001b[0;34m\u001b[0m\u001b[0m\n\u001b[0m",
      "\u001b[0;32m//anaconda3/lib/python3.7/bdb.py\u001b[0m in \u001b[0;36mtrace_dispatch\u001b[0;34m(self, frame, event, arg)\u001b[0m\n\u001b[1;32m     86\u001b[0m             \u001b[0;32mreturn\u001b[0m \u001b[0;31m# None\u001b[0m\u001b[0;34m\u001b[0m\u001b[0;34m\u001b[0m\u001b[0m\n\u001b[1;32m     87\u001b[0m         \u001b[0;32mif\u001b[0m \u001b[0mevent\u001b[0m \u001b[0;34m==\u001b[0m \u001b[0;34m'line'\u001b[0m\u001b[0;34m:\u001b[0m\u001b[0;34m\u001b[0m\u001b[0;34m\u001b[0m\u001b[0m\n\u001b[0;32m---> 88\u001b[0;31m             \u001b[0;32mreturn\u001b[0m \u001b[0mself\u001b[0m\u001b[0;34m.\u001b[0m\u001b[0mdispatch_line\u001b[0m\u001b[0;34m(\u001b[0m\u001b[0mframe\u001b[0m\u001b[0;34m)\u001b[0m\u001b[0;34m\u001b[0m\u001b[0;34m\u001b[0m\u001b[0m\n\u001b[0m\u001b[1;32m     89\u001b[0m         \u001b[0;32mif\u001b[0m \u001b[0mevent\u001b[0m \u001b[0;34m==\u001b[0m \u001b[0;34m'call'\u001b[0m\u001b[0;34m:\u001b[0m\u001b[0;34m\u001b[0m\u001b[0;34m\u001b[0m\u001b[0m\n\u001b[1;32m     90\u001b[0m             \u001b[0;32mreturn\u001b[0m \u001b[0mself\u001b[0m\u001b[0;34m.\u001b[0m\u001b[0mdispatch_call\u001b[0m\u001b[0;34m(\u001b[0m\u001b[0mframe\u001b[0m\u001b[0;34m,\u001b[0m \u001b[0marg\u001b[0m\u001b[0;34m)\u001b[0m\u001b[0;34m\u001b[0m\u001b[0;34m\u001b[0m\u001b[0m\n",
      "\u001b[0;32m//anaconda3/lib/python3.7/bdb.py\u001b[0m in \u001b[0;36mdispatch_line\u001b[0;34m(self, frame)\u001b[0m\n\u001b[1;32m    111\u001b[0m         \u001b[0;32mif\u001b[0m \u001b[0mself\u001b[0m\u001b[0;34m.\u001b[0m\u001b[0mstop_here\u001b[0m\u001b[0;34m(\u001b[0m\u001b[0mframe\u001b[0m\u001b[0;34m)\u001b[0m \u001b[0;32mor\u001b[0m \u001b[0mself\u001b[0m\u001b[0;34m.\u001b[0m\u001b[0mbreak_here\u001b[0m\u001b[0;34m(\u001b[0m\u001b[0mframe\u001b[0m\u001b[0;34m)\u001b[0m\u001b[0;34m:\u001b[0m\u001b[0;34m\u001b[0m\u001b[0;34m\u001b[0m\u001b[0m\n\u001b[1;32m    112\u001b[0m             \u001b[0mself\u001b[0m\u001b[0;34m.\u001b[0m\u001b[0muser_line\u001b[0m\u001b[0;34m(\u001b[0m\u001b[0mframe\u001b[0m\u001b[0;34m)\u001b[0m\u001b[0;34m\u001b[0m\u001b[0;34m\u001b[0m\u001b[0m\n\u001b[0;32m--> 113\u001b[0;31m             \u001b[0;32mif\u001b[0m \u001b[0mself\u001b[0m\u001b[0;34m.\u001b[0m\u001b[0mquitting\u001b[0m\u001b[0;34m:\u001b[0m \u001b[0;32mraise\u001b[0m \u001b[0mBdbQuit\u001b[0m\u001b[0;34m\u001b[0m\u001b[0;34m\u001b[0m\u001b[0m\n\u001b[0m\u001b[1;32m    114\u001b[0m         \u001b[0;32mreturn\u001b[0m \u001b[0mself\u001b[0m\u001b[0;34m.\u001b[0m\u001b[0mtrace_dispatch\u001b[0m\u001b[0;34m\u001b[0m\u001b[0;34m\u001b[0m\u001b[0m\n\u001b[1;32m    115\u001b[0m \u001b[0;34m\u001b[0m\u001b[0m\n",
      "\u001b[0;31mBdbQuit\u001b[0m: "
     ]
    }
   ],
   "source": [
    "from IPython.display import clear_output as bye\n",
    "import Ledger\n",
    "bill = 100.0\n",
    "breakpoint()\n",
    "for year in range(1,10):\n",
    "    breakpoint()\n",
    "    bill = Ledger.add_interest(bill)"
   ]
  },
  {
   "cell_type": "markdown",
   "metadata": {
    "slideshow": {
     "slide_type": "subslide"
    }
   },
   "source": [
    "#### b(reak) [ ([filename:]lineno | function) [, condition] ]\n",
    "* b (break) lists all of the breakpoints\n",
    "* b followed by the above conditional sets a new breakpoint"
   ]
  },
  {
   "cell_type": "markdown",
   "metadata": {
    "slideshow": {
     "slide_type": "slide"
    }
   },
   "source": [
    "## Dependence Example"
   ]
  },
  {
   "cell_type": "code",
   "execution_count": 5,
   "metadata": {
    "slideshow": {
     "slide_type": "subslide"
    }
   },
   "outputs": [],
   "source": [
    "import Ledger"
   ]
  },
  {
   "cell_type": "code",
   "execution_count": 6,
   "metadata": {
    "slideshow": {
     "slide_type": "fragment"
    }
   },
   "outputs": [
    {
     "name": "stdout",
     "output_type": "stream",
     "text": [
      "You need to pay DNDBeyond $914.\n"
     ]
    },
    {
     "data": {
      "text/plain": [
       "['DNDBeyond', 914]"
      ]
     },
     "execution_count": 6,
     "metadata": {},
     "output_type": "execute_result"
    }
   ],
   "source": [
    "Ledger.get_bill()"
   ]
  },
  {
   "cell_type": "code",
   "execution_count": 7,
   "metadata": {
    "scrolled": true,
    "slideshow": {
     "slide_type": "subslide"
    }
   },
   "outputs": [
    {
     "name": "stdout",
     "output_type": "stream",
     "text": [
      "You need to pay MiniatureMarket $261.\n",
      "You need to pay CoolStuffInc $263.\n",
      "You need to pay DNDBeyond $65.\n",
      "You need to pay Farm2Bowl $336.\n"
     ]
    }
   ],
   "source": [
    "bills=[]\n",
    "for i in range(4):\n",
    "    bills.append(Ledger.get_bill())"
   ]
  },
  {
   "cell_type": "code",
   "execution_count": 8,
   "metadata": {
    "slideshow": {
     "slide_type": "fragment"
    }
   },
   "outputs": [
    {
     "name": "stdout",
     "output_type": "stream",
     "text": [
      "Payday! You've got 3000 in the bank.\n",
      "Actually . . .\n",
      "$2739 left after paying off MiniatureMarket for $261\n",
      "Something went wrong, I guess. ¯\\_(ツ)_/¯\n",
      "$2674 left after paying off DNDBeyond for $65\n",
      "$2338 left after paying off Farm2Bowl for $336\n",
      "Time to spend the remaining $2338!\n"
     ]
    }
   ],
   "source": [
    "Ledger.get_paid(bills)"
   ]
  },
  {
   "cell_type": "code",
   "execution_count": 9,
   "metadata": {
    "scrolled": true,
    "slideshow": {
     "slide_type": "subslide"
    }
   },
   "outputs": [
    {
     "name": "stdout",
     "output_type": "stream",
     "text": [
      "--Return--\n",
      "> <ipython-input-9-20227d2986a2>(1)<module>()->None\n",
      "-> breakpoint()\n",
      "(Pdb) b Ledger.get_paid\n",
      "Breakpoint 1 at /Users/dizquierdo/PycharmProjects/PdbLecture/Ledger.py:28\n",
      "(Pdb) cont\n",
      "> /Users/dizquierdo/PycharmProjects/PdbLecture/Ledger.py(30)get_paid()\n",
      "-> print(f'Payday! You\\'ve got {paycheck} in the bank.')\n",
      "(Pdb) l\n",
      " 25  \t    return bill\n",
      " 26  \t\n",
      " 27  \t\n",
      " 28 B\tdef get_paid(bill_list, paycheck=3000):\n",
      " 29  \t\n",
      " 30  ->\t    print(f'Payday! You\\'ve got {paycheck} in the bank.')\n",
      " 31  \t    print('Actually . . .')\n",
      " 32  \t    for bill in bill_list:\n",
      " 33  \t        try:\n",
      " 34  \t            paycheck -= bill[1]\n",
      " 35  \t            print(f'${paycheck} left after paying off {bill[0]} for ${bill[1]}')\n",
      "(Pdb) exit\n"
     ]
    },
    {
     "ename": "BdbQuit",
     "evalue": "",
     "output_type": "error",
     "traceback": [
      "\u001b[0;31m---------------------------------------------------------------------------\u001b[0m",
      "\u001b[0;31mBdbQuit\u001b[0m                                   Traceback (most recent call last)",
      "\u001b[0;32m<ipython-input-9-20227d2986a2>\u001b[0m in \u001b[0;36m<module>\u001b[0;34m\u001b[0m\n\u001b[1;32m      1\u001b[0m \u001b[0mbreakpoint\u001b[0m\u001b[0;34m(\u001b[0m\u001b[0;34m)\u001b[0m\u001b[0;34m\u001b[0m\u001b[0;34m\u001b[0m\u001b[0m\n\u001b[0;32m----> 2\u001b[0;31m \u001b[0mLedger\u001b[0m\u001b[0;34m.\u001b[0m\u001b[0mget_paid\u001b[0m\u001b[0;34m(\u001b[0m\u001b[0mbills\u001b[0m\u001b[0;34m)\u001b[0m\u001b[0;34m\u001b[0m\u001b[0;34m\u001b[0m\u001b[0m\n\u001b[0m",
      "\u001b[0;32m~/PycharmProjects/PdbLecture/Ledger.py\u001b[0m in \u001b[0;36mget_paid\u001b[0;34m(bill_list, paycheck)\u001b[0m\n\u001b[1;32m     28\u001b[0m \u001b[0;32mdef\u001b[0m \u001b[0mget_paid\u001b[0m\u001b[0;34m(\u001b[0m\u001b[0mbill_list\u001b[0m\u001b[0;34m,\u001b[0m \u001b[0mpaycheck\u001b[0m\u001b[0;34m=\u001b[0m\u001b[0;36m3000\u001b[0m\u001b[0;34m)\u001b[0m\u001b[0;34m:\u001b[0m\u001b[0;34m\u001b[0m\u001b[0;34m\u001b[0m\u001b[0m\n\u001b[1;32m     29\u001b[0m \u001b[0;34m\u001b[0m\u001b[0m\n\u001b[0;32m---> 30\u001b[0;31m     \u001b[0mprint\u001b[0m\u001b[0;34m(\u001b[0m\u001b[0;34mf'Payday! You\\'ve got {paycheck} in the bank.'\u001b[0m\u001b[0;34m)\u001b[0m\u001b[0;34m\u001b[0m\u001b[0;34m\u001b[0m\u001b[0m\n\u001b[0m\u001b[1;32m     31\u001b[0m     \u001b[0mprint\u001b[0m\u001b[0;34m(\u001b[0m\u001b[0;34m'Actually . . .'\u001b[0m\u001b[0;34m)\u001b[0m\u001b[0;34m\u001b[0m\u001b[0;34m\u001b[0m\u001b[0m\n\u001b[1;32m     32\u001b[0m     \u001b[0;32mfor\u001b[0m \u001b[0mbill\u001b[0m \u001b[0;32min\u001b[0m \u001b[0mbill_list\u001b[0m\u001b[0;34m:\u001b[0m\u001b[0;34m\u001b[0m\u001b[0;34m\u001b[0m\u001b[0m\n",
      "\u001b[0;32m~/PycharmProjects/PdbLecture/Ledger.py\u001b[0m in \u001b[0;36mget_paid\u001b[0;34m(bill_list, paycheck)\u001b[0m\n\u001b[1;32m     28\u001b[0m \u001b[0;32mdef\u001b[0m \u001b[0mget_paid\u001b[0m\u001b[0;34m(\u001b[0m\u001b[0mbill_list\u001b[0m\u001b[0;34m,\u001b[0m \u001b[0mpaycheck\u001b[0m\u001b[0;34m=\u001b[0m\u001b[0;36m3000\u001b[0m\u001b[0;34m)\u001b[0m\u001b[0;34m:\u001b[0m\u001b[0;34m\u001b[0m\u001b[0;34m\u001b[0m\u001b[0m\n\u001b[1;32m     29\u001b[0m \u001b[0;34m\u001b[0m\u001b[0m\n\u001b[0;32m---> 30\u001b[0;31m     \u001b[0mprint\u001b[0m\u001b[0;34m(\u001b[0m\u001b[0;34mf'Payday! You\\'ve got {paycheck} in the bank.'\u001b[0m\u001b[0;34m)\u001b[0m\u001b[0;34m\u001b[0m\u001b[0;34m\u001b[0m\u001b[0m\n\u001b[0m\u001b[1;32m     31\u001b[0m     \u001b[0mprint\u001b[0m\u001b[0;34m(\u001b[0m\u001b[0;34m'Actually . . .'\u001b[0m\u001b[0;34m)\u001b[0m\u001b[0;34m\u001b[0m\u001b[0;34m\u001b[0m\u001b[0m\n\u001b[1;32m     32\u001b[0m     \u001b[0;32mfor\u001b[0m \u001b[0mbill\u001b[0m \u001b[0;32min\u001b[0m \u001b[0mbill_list\u001b[0m\u001b[0;34m:\u001b[0m\u001b[0;34m\u001b[0m\u001b[0;34m\u001b[0m\u001b[0m\n",
      "\u001b[0;32m//anaconda3/lib/python3.7/bdb.py\u001b[0m in \u001b[0;36mtrace_dispatch\u001b[0;34m(self, frame, event, arg)\u001b[0m\n\u001b[1;32m     86\u001b[0m             \u001b[0;32mreturn\u001b[0m \u001b[0;31m# None\u001b[0m\u001b[0;34m\u001b[0m\u001b[0;34m\u001b[0m\u001b[0m\n\u001b[1;32m     87\u001b[0m         \u001b[0;32mif\u001b[0m \u001b[0mevent\u001b[0m \u001b[0;34m==\u001b[0m \u001b[0;34m'line'\u001b[0m\u001b[0;34m:\u001b[0m\u001b[0;34m\u001b[0m\u001b[0;34m\u001b[0m\u001b[0m\n\u001b[0;32m---> 88\u001b[0;31m             \u001b[0;32mreturn\u001b[0m \u001b[0mself\u001b[0m\u001b[0;34m.\u001b[0m\u001b[0mdispatch_line\u001b[0m\u001b[0;34m(\u001b[0m\u001b[0mframe\u001b[0m\u001b[0;34m)\u001b[0m\u001b[0;34m\u001b[0m\u001b[0;34m\u001b[0m\u001b[0m\n\u001b[0m\u001b[1;32m     89\u001b[0m         \u001b[0;32mif\u001b[0m \u001b[0mevent\u001b[0m \u001b[0;34m==\u001b[0m \u001b[0;34m'call'\u001b[0m\u001b[0;34m:\u001b[0m\u001b[0;34m\u001b[0m\u001b[0;34m\u001b[0m\u001b[0m\n\u001b[1;32m     90\u001b[0m             \u001b[0;32mreturn\u001b[0m \u001b[0mself\u001b[0m\u001b[0;34m.\u001b[0m\u001b[0mdispatch_call\u001b[0m\u001b[0;34m(\u001b[0m\u001b[0mframe\u001b[0m\u001b[0;34m,\u001b[0m \u001b[0marg\u001b[0m\u001b[0;34m)\u001b[0m\u001b[0;34m\u001b[0m\u001b[0;34m\u001b[0m\u001b[0m\n",
      "\u001b[0;32m//anaconda3/lib/python3.7/bdb.py\u001b[0m in \u001b[0;36mdispatch_line\u001b[0;34m(self, frame)\u001b[0m\n\u001b[1;32m    111\u001b[0m         \u001b[0;32mif\u001b[0m \u001b[0mself\u001b[0m\u001b[0;34m.\u001b[0m\u001b[0mstop_here\u001b[0m\u001b[0;34m(\u001b[0m\u001b[0mframe\u001b[0m\u001b[0;34m)\u001b[0m \u001b[0;32mor\u001b[0m \u001b[0mself\u001b[0m\u001b[0;34m.\u001b[0m\u001b[0mbreak_here\u001b[0m\u001b[0;34m(\u001b[0m\u001b[0mframe\u001b[0m\u001b[0;34m)\u001b[0m\u001b[0;34m:\u001b[0m\u001b[0;34m\u001b[0m\u001b[0;34m\u001b[0m\u001b[0m\n\u001b[1;32m    112\u001b[0m             \u001b[0mself\u001b[0m\u001b[0;34m.\u001b[0m\u001b[0muser_line\u001b[0m\u001b[0;34m(\u001b[0m\u001b[0mframe\u001b[0m\u001b[0;34m)\u001b[0m\u001b[0;34m\u001b[0m\u001b[0;34m\u001b[0m\u001b[0m\n\u001b[0;32m--> 113\u001b[0;31m             \u001b[0;32mif\u001b[0m \u001b[0mself\u001b[0m\u001b[0;34m.\u001b[0m\u001b[0mquitting\u001b[0m\u001b[0;34m:\u001b[0m \u001b[0;32mraise\u001b[0m \u001b[0mBdbQuit\u001b[0m\u001b[0;34m\u001b[0m\u001b[0;34m\u001b[0m\u001b[0m\n\u001b[0m\u001b[1;32m    114\u001b[0m         \u001b[0;32mreturn\u001b[0m \u001b[0mself\u001b[0m\u001b[0;34m.\u001b[0m\u001b[0mtrace_dispatch\u001b[0m\u001b[0;34m\u001b[0m\u001b[0;34m\u001b[0m\u001b[0m\n\u001b[1;32m    115\u001b[0m \u001b[0;34m\u001b[0m\u001b[0m\n",
      "\u001b[0;31mBdbQuit\u001b[0m: "
     ]
    }
   ],
   "source": [
    "breakpoint()\n",
    "Ledger.get_paid(bills)"
   ]
  },
  {
   "cell_type": "markdown",
   "metadata": {
    "slideshow": {
     "slide_type": "subslide"
    }
   },
   "source": [
    "## Problem:\n",
    "Explore the following code using the breakpoint and figure out what went wrong in the loops:\n",
    "1. Set a breakpoint for when Ledger.get_bill gets called \n",
    "    * Remember jupyter notebooks have a lot of hidden functions running on the stack\n",
    "2. Explore the function stack, check your context, form hypotheses and test them with PDB\n",
    "3. **n**(ext), **s**(tep) and **c**(ontinue) are your best friends"
   ]
  },
  {
   "cell_type": "code",
   "execution_count": 10,
   "metadata": {
    "slideshow": {
     "slide_type": "subslide"
    }
   },
   "outputs": [
    {
     "name": "stdout",
     "output_type": "stream",
     "text": [
      "> <ipython-input-10-16eb4b2ca334>(5)<module>()->None\n",
      "-> bills.append(Ledger.get_bill())\n",
      "(Pdb) b Ledger.get_bill\n",
      "Breakpoint 2 at /Users/dizquierdo/PycharmProjects/PdbLecture/Ledger.py:22\n",
      "(Pdb) cont\n",
      "> /Users/dizquierdo/PycharmProjects/PdbLecture/Ledger.py(23)get_bill()\n",
      "-> bill = bills.generate()\n",
      "(Pdb) l\n",
      " 18  \t\n",
      " 19  \tbills = Ledger()\n",
      " 20  \t\n",
      " 21  \t\n",
      " 22 B\tdef get_bill():\n",
      " 23  ->\t    bill = bills.generate()\n",
      " 24  \t    print(f'You need to pay {bill[0]} ${bill[1]}.')\n",
      " 25  \t    return bill\n",
      " 26  \t\n",
      " 27  \t\n",
      " 28  \tdef get_paid(bill_list, paycheck=3000):\n",
      "(Pdb) s\n",
      "--Call--\n",
      "> /Users/dizquierdo/PycharmProjects/PdbLecture/Ledger.py(11)generate()\n",
      "-> def generate(self):\n",
      "(Pdb) l\n",
      "  6  \t    def __init__(self):\n",
      "  7  \t        self.counter = 0\n",
      "  8  \t        self.rng = np.random\n",
      "  9  \t        self.co = ['WotC', 'CoolStuffInc', 'DNDBeyond', 'MiniatureMarket', 'Farm2Bowl']\n",
      " 10  \t\n",
      " 11  ->\t    def generate(self):\n",
      " 12  \t        self.counter += 1\n",
      " 13  \t        if self.counter % 3 == 0:\n",
      " 14  \t            return [str(self.rng.choice(self.co, 1)[0]), str(self.rng.randint(10, 1000, 1)[0])]\n",
      " 15  \t        else:\n",
      " 16  \t            return [str(self.rng.choice(self.co, 1)[0]), int(self.rng.randint(10, 1000, 1))]\n",
      "(Pdb) exit\n"
     ]
    },
    {
     "ename": "BdbQuit",
     "evalue": "",
     "output_type": "error",
     "traceback": [
      "\u001b[0;31m---------------------------------------------------------------------------\u001b[0m",
      "\u001b[0;31mBdbQuit\u001b[0m                                   Traceback (most recent call last)",
      "\u001b[0;32m<ipython-input-10-16eb4b2ca334>\u001b[0m in \u001b[0;36m<module>\u001b[0;34m\u001b[0m\n\u001b[1;32m      3\u001b[0m \u001b[0;32mfor\u001b[0m \u001b[0mi\u001b[0m \u001b[0;32min\u001b[0m \u001b[0mrange\u001b[0m\u001b[0;34m(\u001b[0m\u001b[0;36m10\u001b[0m\u001b[0;34m)\u001b[0m\u001b[0;34m:\u001b[0m\u001b[0;34m\u001b[0m\u001b[0;34m\u001b[0m\u001b[0m\n\u001b[1;32m      4\u001b[0m     \u001b[0mbreakpoint\u001b[0m\u001b[0;34m(\u001b[0m\u001b[0;34m)\u001b[0m\u001b[0;34m\u001b[0m\u001b[0;34m\u001b[0m\u001b[0m\n\u001b[0;32m----> 5\u001b[0;31m     \u001b[0mbills\u001b[0m\u001b[0;34m.\u001b[0m\u001b[0mappend\u001b[0m\u001b[0;34m(\u001b[0m\u001b[0mLedger\u001b[0m\u001b[0;34m.\u001b[0m\u001b[0mget_bill\u001b[0m\u001b[0;34m(\u001b[0m\u001b[0;34m)\u001b[0m\u001b[0;34m)\u001b[0m\u001b[0;34m\u001b[0m\u001b[0;34m\u001b[0m\u001b[0m\n\u001b[0m",
      "\u001b[0;32m~/PycharmProjects/PdbLecture/Ledger.py\u001b[0m in \u001b[0;36mget_bill\u001b[0;34m()\u001b[0m\n\u001b[1;32m     21\u001b[0m \u001b[0;34m\u001b[0m\u001b[0m\n\u001b[1;32m     22\u001b[0m \u001b[0;34m\u001b[0m\u001b[0m\n\u001b[0;32m---> 23\u001b[0;31m \u001b[0;32mdef\u001b[0m \u001b[0mget_bill\u001b[0m\u001b[0;34m(\u001b[0m\u001b[0;34m)\u001b[0m\u001b[0;34m:\u001b[0m\u001b[0;34m\u001b[0m\u001b[0;34m\u001b[0m\u001b[0m\n\u001b[0m\u001b[1;32m     24\u001b[0m     \u001b[0mbill\u001b[0m \u001b[0;34m=\u001b[0m \u001b[0mbills\u001b[0m\u001b[0;34m.\u001b[0m\u001b[0mgenerate\u001b[0m\u001b[0;34m(\u001b[0m\u001b[0;34m)\u001b[0m\u001b[0;34m\u001b[0m\u001b[0;34m\u001b[0m\u001b[0m\n\u001b[1;32m     25\u001b[0m     \u001b[0mprint\u001b[0m\u001b[0;34m(\u001b[0m\u001b[0;34mf'You need to pay {bill[0]} ${bill[1]}.'\u001b[0m\u001b[0;34m)\u001b[0m\u001b[0;34m\u001b[0m\u001b[0;34m\u001b[0m\u001b[0m\n",
      "\u001b[0;32m~/PycharmProjects/PdbLecture/Ledger.py\u001b[0m in \u001b[0;36mgenerate\u001b[0;34m(self)\u001b[0m\n\u001b[1;32m      9\u001b[0m         \u001b[0mself\u001b[0m\u001b[0;34m.\u001b[0m\u001b[0mco\u001b[0m \u001b[0;34m=\u001b[0m \u001b[0;34m[\u001b[0m\u001b[0;34m'WotC'\u001b[0m\u001b[0;34m,\u001b[0m \u001b[0;34m'CoolStuffInc'\u001b[0m\u001b[0;34m,\u001b[0m \u001b[0;34m'DNDBeyond'\u001b[0m\u001b[0;34m,\u001b[0m \u001b[0;34m'MiniatureMarket'\u001b[0m\u001b[0;34m,\u001b[0m \u001b[0;34m'Farm2Bowl'\u001b[0m\u001b[0;34m]\u001b[0m\u001b[0;34m\u001b[0m\u001b[0;34m\u001b[0m\u001b[0m\n\u001b[1;32m     10\u001b[0m \u001b[0;34m\u001b[0m\u001b[0m\n\u001b[0;32m---> 11\u001b[0;31m     \u001b[0;32mdef\u001b[0m \u001b[0mgenerate\u001b[0m\u001b[0;34m(\u001b[0m\u001b[0mself\u001b[0m\u001b[0;34m)\u001b[0m\u001b[0;34m:\u001b[0m\u001b[0;34m\u001b[0m\u001b[0;34m\u001b[0m\u001b[0m\n\u001b[0m\u001b[1;32m     12\u001b[0m         \u001b[0mself\u001b[0m\u001b[0;34m.\u001b[0m\u001b[0mcounter\u001b[0m \u001b[0;34m+=\u001b[0m \u001b[0;36m1\u001b[0m\u001b[0;34m\u001b[0m\u001b[0;34m\u001b[0m\u001b[0m\n\u001b[1;32m     13\u001b[0m         \u001b[0;32mif\u001b[0m \u001b[0mself\u001b[0m\u001b[0;34m.\u001b[0m\u001b[0mcounter\u001b[0m \u001b[0;34m%\u001b[0m \u001b[0;36m3\u001b[0m \u001b[0;34m==\u001b[0m \u001b[0;36m0\u001b[0m\u001b[0;34m:\u001b[0m\u001b[0;34m\u001b[0m\u001b[0;34m\u001b[0m\u001b[0m\n",
      "\u001b[0;32m//anaconda3/lib/python3.7/bdb.py\u001b[0m in \u001b[0;36mtrace_dispatch\u001b[0;34m(self, frame, event, arg)\u001b[0m\n\u001b[1;32m     88\u001b[0m             \u001b[0;32mreturn\u001b[0m \u001b[0mself\u001b[0m\u001b[0;34m.\u001b[0m\u001b[0mdispatch_line\u001b[0m\u001b[0;34m(\u001b[0m\u001b[0mframe\u001b[0m\u001b[0;34m)\u001b[0m\u001b[0;34m\u001b[0m\u001b[0;34m\u001b[0m\u001b[0m\n\u001b[1;32m     89\u001b[0m         \u001b[0;32mif\u001b[0m \u001b[0mevent\u001b[0m \u001b[0;34m==\u001b[0m \u001b[0;34m'call'\u001b[0m\u001b[0;34m:\u001b[0m\u001b[0;34m\u001b[0m\u001b[0;34m\u001b[0m\u001b[0m\n\u001b[0;32m---> 90\u001b[0;31m             \u001b[0;32mreturn\u001b[0m \u001b[0mself\u001b[0m\u001b[0;34m.\u001b[0m\u001b[0mdispatch_call\u001b[0m\u001b[0;34m(\u001b[0m\u001b[0mframe\u001b[0m\u001b[0;34m,\u001b[0m \u001b[0marg\u001b[0m\u001b[0;34m)\u001b[0m\u001b[0;34m\u001b[0m\u001b[0;34m\u001b[0m\u001b[0m\n\u001b[0m\u001b[1;32m     91\u001b[0m         \u001b[0;32mif\u001b[0m \u001b[0mevent\u001b[0m \u001b[0;34m==\u001b[0m \u001b[0;34m'return'\u001b[0m\u001b[0;34m:\u001b[0m\u001b[0;34m\u001b[0m\u001b[0;34m\u001b[0m\u001b[0m\n\u001b[1;32m     92\u001b[0m             \u001b[0;32mreturn\u001b[0m \u001b[0mself\u001b[0m\u001b[0;34m.\u001b[0m\u001b[0mdispatch_return\u001b[0m\u001b[0;34m(\u001b[0m\u001b[0mframe\u001b[0m\u001b[0;34m,\u001b[0m \u001b[0marg\u001b[0m\u001b[0;34m)\u001b[0m\u001b[0;34m\u001b[0m\u001b[0;34m\u001b[0m\u001b[0m\n",
      "\u001b[0;32m//anaconda3/lib/python3.7/bdb.py\u001b[0m in \u001b[0;36mdispatch_call\u001b[0;34m(self, frame, arg)\u001b[0m\n\u001b[1;32m    133\u001b[0m             \u001b[0;32mreturn\u001b[0m \u001b[0mself\u001b[0m\u001b[0;34m.\u001b[0m\u001b[0mtrace_dispatch\u001b[0m\u001b[0;34m\u001b[0m\u001b[0;34m\u001b[0m\u001b[0m\n\u001b[1;32m    134\u001b[0m         \u001b[0mself\u001b[0m\u001b[0;34m.\u001b[0m\u001b[0muser_call\u001b[0m\u001b[0;34m(\u001b[0m\u001b[0mframe\u001b[0m\u001b[0;34m,\u001b[0m \u001b[0marg\u001b[0m\u001b[0;34m)\u001b[0m\u001b[0;34m\u001b[0m\u001b[0;34m\u001b[0m\u001b[0m\n\u001b[0;32m--> 135\u001b[0;31m         \u001b[0;32mif\u001b[0m \u001b[0mself\u001b[0m\u001b[0;34m.\u001b[0m\u001b[0mquitting\u001b[0m\u001b[0;34m:\u001b[0m \u001b[0;32mraise\u001b[0m \u001b[0mBdbQuit\u001b[0m\u001b[0;34m\u001b[0m\u001b[0;34m\u001b[0m\u001b[0m\n\u001b[0m\u001b[1;32m    136\u001b[0m         \u001b[0;32mreturn\u001b[0m \u001b[0mself\u001b[0m\u001b[0;34m.\u001b[0m\u001b[0mtrace_dispatch\u001b[0m\u001b[0;34m\u001b[0m\u001b[0;34m\u001b[0m\u001b[0m\n\u001b[1;32m    137\u001b[0m \u001b[0;34m\u001b[0m\u001b[0m\n",
      "\u001b[0;31mBdbQuit\u001b[0m: "
     ]
    }
   ],
   "source": [
    "import Ledger\n",
    "bills=[]\n",
    "for i in range(10):\n",
    "    breakpoint()\n",
    "    bills.append(Ledger.get_bill())"
   ]
  },
  {
   "cell_type": "markdown",
   "metadata": {
    "slideshow": {
     "slide_type": "notes"
    }
   },
   "source": [
    "## Resources\n",
    "https://www.slideshare.net/svilen.ivanov/the-art-of-debugging\n",
    "\n",
    "https://www.cse.unr.edu/~bebis/CS308/PowerPoint/DEBUGGING.ppt"
   ]
  }
 ],
 "metadata": {
  "celltoolbar": "Slideshow",
  "kernelspec": {
   "display_name": "Python 3",
   "language": "python",
   "name": "python3"
  }
 },
 "nbformat": 4,
 "nbformat_minor": 2
}
